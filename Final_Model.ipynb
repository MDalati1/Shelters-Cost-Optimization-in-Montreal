{
 "cells": [
  {
   "cell_type": "code",
   "execution_count": null,
   "metadata": {},
   "outputs": [],
   "source": [
    "import pandas as pd\n",
    "import numpy as np\n",
    "import os\n",
    "import math\n",
    "import statistics as stats\n",
    "import gurobipy as gb\n",
    "from gurobipy import *"
   ]
  },
  {
   "cell_type": "markdown",
   "metadata": {},
   "source": [
    "### Read in Data"
   ]
  },
  {
   "cell_type": "code",
   "execution_count": null,
   "metadata": {},
   "outputs": [],
   "source": [
    "# set to your working directory\n",
    "dir = r\"C:\\Users\\tnaga\\Documents\\MMA\\Fall 2022\\Decision Analytics\\Project\\Test\"\n",
    "os.chdir(dir)\n",
    "dft = pd.read_excel(\"Model_Data.xlsx\", sheet_name=\"Transitional\")\n",
    "dfe = pd.read_excel(\"Model_Data.xlsx\", sheet_name=\"Emergency\")\n",
    "dfh = pd.read_excel(\"Model_Data.xlsx\", sheet_name=\"HotSpots\")\n",
    "dfn = pd.read_excel(\"Model_Data.xlsx\", sheet_name=\"NewLocations\")"
   ]
  },
  {
   "cell_type": "markdown",
   "metadata": {},
   "source": [
    "### Define Haversine Distance Calculation"
   ]
  },
  {
   "cell_type": "code",
   "execution_count": null,
   "metadata": {},
   "outputs": [],
   "source": [
    "def haversine_distance(coord1: list, coord2: list):\n",
    "    # calculates the angular distance along a sphere between latitude and longitude coordinates\n",
    "    lon1, lat1 = coord1\n",
    "    lon2, lat2 = coord2\n",
    "\n",
    "    R = 6371000\n",
    "    phi_1 = math.radians(lat1)\n",
    "    phi_2 = math.radians(lat2)\n",
    "\n",
    "    delta_phi = math.radians(lat2 - lat1)\n",
    "    delta_lambda = math.radians(lon2 - lon1)\n",
    "\n",
    "    a = math.sin(delta_phi / 2.0) ** 2 + math.cos(phi_1) * math.cos(phi_2) * math.sin(delta_lambda / 2.0) ** 2\n",
    "    \n",
    "    c = 2 * math.atan2(math.sqrt(a), math.sqrt(1 - a))\n",
    "\n",
    "    meters = R * c \n",
    "    km = meters / 1000.0\n",
    "\n",
    "    meters = round(meters, 3)\n",
    "    km = round(km, 3)\n",
    "    miles = km * 0.621371\n",
    "    return km"
   ]
  },
  {
   "cell_type": "markdown",
   "metadata": {},
   "source": [
    "### Data Preparation"
   ]
  },
  {
   "cell_type": "code",
   "execution_count": null,
   "metadata": {},
   "outputs": [],
   "source": [
    "# 50% of homeless people assigned to metros\n",
    "# 50% of homeless people assigned to homeless camps\n",
    "pct = 0.5\n",
    "\n",
    "# total number of homeless people\n",
    "total_homeless = 3573\n",
    "total_metro = math.floor(total_homeless * pct)\n",
    "total_camp = total_homeless - total_metro"
   ]
  },
  {
   "cell_type": "markdown",
   "metadata": {},
   "source": [
    "### Transitional"
   ]
  },
  {
   "cell_type": "code",
   "execution_count": null,
   "metadata": {},
   "outputs": [],
   "source": [
    "# Calculate Total Number of beds\n",
    "dft_piv = pd.pivot_table(dft, values=\"Beds\", index=\"Index\", aggfunc=np.sum)\n",
    "dft_piv.columns = [\"Total Beds\"]\n",
    "dft = pd.merge(dft, dft_piv, how = \"left\", left_on=\"Index\", right_on=\"Index\")\n",
    "\n",
    "# Replace missing values with median value of costs\n",
    "dft['Annual Cost'] = dft['Annual Cost'].replace({np.nan:dft['Annual Cost'].median()})\n",
    "\n",
    "# calculate adjusted costs based on number of beds\n",
    "dft['Adjusted Costs'] = (dft['Beds'] / dft['Total Beds']) * dft['Annual Cost']\n",
    "\n",
    "# calculate the variable cost\n",
    "var_cost = 25860\n",
    "dft['Variable Cost'] = dft['Beds'] * var_cost\n",
    "\n",
    "dft = dft.drop(columns=\"Index\")"
   ]
  },
  {
   "cell_type": "markdown",
   "metadata": {},
   "source": [
    "### Emergency"
   ]
  },
  {
   "cell_type": "code",
   "execution_count": null,
   "metadata": {},
   "outputs": [],
   "source": [
    "# Calculate Total Number of Beds\n",
    "dfe_piv = pd.pivot_table(dfe, values=\"Beds\", index=\"Index\", aggfunc=np.sum)\n",
    "dfe_piv.columns = [\"Total Beds\"]\n",
    "dfe = pd.merge(dfe, dfe_piv, how = \"left\", left_on=\"Index\", right_on=\"Index\")\n",
    "\n",
    "# replace missing values with median value of costs\n",
    "dfe['Annual Cost'] = dfe['Annual Cost'].replace({np.nan:dfe['Annual Cost'].median()})\n",
    "\n",
    "# calculated adjusted costs based on number of beds\n",
    "dfe['Adjusted Costs'] = (dfe['Beds'] / dfe['Total Beds']) * dfe['Annual Cost']\n",
    "\n",
    "# calculate the variable cost\n",
    "var_cost = 25860\n",
    "dfe['Variable Cost'] = dfe['Beds'] * var_cost\n",
    "\n",
    "dfe = dfe.drop(columns=\"Index\")"
   ]
  },
  {
   "cell_type": "markdown",
   "metadata": {},
   "source": [
    "### Combine Transitional and Emergency"
   ]
  },
  {
   "cell_type": "code",
   "execution_count": null,
   "metadata": {},
   "outputs": [],
   "source": [
    "dfc = pd.concat([dft, dfe])"
   ]
  },
  {
   "cell_type": "markdown",
   "metadata": {},
   "source": [
    "### Hotspots"
   ]
  },
  {
   "cell_type": "code",
   "execution_count": null,
   "metadata": {},
   "outputs": [],
   "source": [
    "dfh_camp = dfh[pd.isna(dfh['Density'])]\n",
    "dfh_camp = dfh_camp[['Station', 'Density', 'Latitude', 'Longitude']].reset_index()\n",
    "dfh_metro = dfh[pd.notna(dfh['Density'])]\n",
    "dfh_metro = dfh_metro[['Station', 'Density', 'Latitude', 'Longitude']].reset_index()"
   ]
  },
  {
   "cell_type": "code",
   "execution_count": null,
   "metadata": {},
   "outputs": [],
   "source": [
    "# distribute homeless in camps equally except West Island\n",
    "num_camps = dfh_camp.shape[0]\n",
    "dfh_camp['Homeless'] = (total_camp - 25) // (num_camps - 1)\n",
    "dfh_camp.loc[dfh_camp['Station'] == \"West Island\",'Homeless'] = 25 # Set West Island to 25\n",
    "\n",
    "dfh_camp['Male'] = dfh_camp['Homeless'] * 0.7\n",
    "dfh_camp['Male'] = dfh_camp['Male'].round() + 1\n",
    "\n",
    "dfh_camp['Female'] = dfh_camp['Homeless'] * 0.3\n",
    "dfh_camp['Female'] = dfh_camp['Female'].round()\n",
    "\n",
    "dfh_camp.loc[dfh_camp['Station'] == \"West Island\",'Male'] = 18\n",
    "dfh_camp.loc[dfh_camp['Station'] == \"West Island\",'Female'] = 7\n",
    "\n",
    "dfh_camp = dfh_camp.drop(columns=['Density'])"
   ]
  },
  {
   "cell_type": "code",
   "execution_count": null,
   "metadata": {},
   "outputs": [],
   "source": [
    "# find the minimum density value\n",
    "# put density of metro station divided by minimum density to create a scale\n",
    "low = dfh_metro['Density'].min()\n",
    "dfh_metro['Scale'] = dfh_metro['Density'] / low\n",
    "total = dfh_metro['Scale'].sum()\n",
    "\n",
    "# calculate homeless distribution by taking scale divided by total scale multiplied by total number of homeless assigned to metros\n",
    "dfh_metro['Homeless'] = dfh_metro['Scale'] / total * total_metro\n",
    "dfh_metro['Homeless'] = dfh_metro['Homeless'].round()\n",
    "\n",
    "# determine portion male and portion female\n",
    "dfh_metro['Male'] = dfh_metro['Homeless'] * 0.7\n",
    "dfh_metro['Male'] = dfh_metro['Male'].round()\n",
    "\n",
    "dfh_metro['Female'] = dfh_metro['Homeless'] * 0.3\n",
    "dfh_metro['Female'] = dfh_metro['Female'].round()\n",
    "\n",
    "dfh_metro = dfh_metro.drop(columns=['Density', 'Scale'])"
   ]
  },
  {
   "cell_type": "code",
   "execution_count": null,
   "metadata": {},
   "outputs": [],
   "source": [
    "# Concatenate metro and camps\n",
    "dfd = pd.concat([dfh_metro, dfh_camp]).reset_index()"
   ]
  },
  {
   "cell_type": "markdown",
   "metadata": {},
   "source": [
    "### Potential"
   ]
  },
  {
   "cell_type": "code",
   "execution_count": null,
   "metadata": {},
   "outputs": [],
   "source": [
    "dfn.head()"
   ]
  },
  {
   "cell_type": "markdown",
   "metadata": {},
   "source": [
    "### Export to Excel"
   ]
  },
  {
   "cell_type": "code",
   "execution_count": null,
   "metadata": {},
   "outputs": [],
   "source": [
    "with pd.ExcelWriter('Final_Model_Data.xlsx') as writer:\n",
    "    dft.to_excel(writer, sheet_name=\"Transitional\", index=False)\n",
    "    dfe.to_excel(writer, sheet_name=\"Emergency\", index=False)\n",
    "    dfc.to_excel(writer, sheet_name=\"CombinedHousing\", index=False)\n",
    "    dfh_camp.to_excel(writer, sheet_name=\"HotspotCamps\", index=False)\n",
    "    dfh_metro.to_excel(writer, sheet_name=\"HotspotsMetro\", index=False)\n",
    "    dfd.to_excel(writer, sheet_name=\"HotspotsAll\", index=False)\n",
    "    dfn.to_excel(writer, sheet_name=\"NewLocations\", index=False)"
   ]
  },
  {
   "cell_type": "markdown",
   "metadata": {},
   "source": [
    "### Model 1: Simulation"
   ]
  },
  {
   "cell_type": "markdown",
   "metadata": {},
   "source": [
    "#### Model 1 Data Prep"
   ]
  },
  {
   "cell_type": "code",
   "execution_count": null,
   "metadata": {},
   "outputs": [],
   "source": [
    "hotspot = dfd.copy()\n",
    "shelter = dfc.copy().reset_index()"
   ]
  },
  {
   "cell_type": "code",
   "execution_count": null,
   "metadata": {},
   "outputs": [],
   "source": [
    "shelter.sort_values(by='Code',inplace=True) # sort by Code to segment All, Female and Male shelters\n",
    "shelter.reset_index(inplace=True)\n",
    "shelter.drop(columns='index',inplace=True)"
   ]
  },
  {
   "cell_type": "code",
   "execution_count": null,
   "metadata": {},
   "outputs": [],
   "source": [
    "Shelter = shelter.loc[:,'Beds'].tolist()\n",
    "Females = hotspot.loc[:,'Female'].tolist()\n",
    "Males = hotspot.loc[:,'Male'].tolist()\n",
    "Gender = ['Female', 'Male']"
   ]
  },
  {
   "cell_type": "code",
   "execution_count": null,
   "metadata": {},
   "outputs": [],
   "source": [
    "H = len(hotspot) # number of hotspots\n",
    "S = len(shelter) # number of shelters\n",
    "G = len(Gender) # number of genders"
   ]
  },
  {
   "cell_type": "code",
   "execution_count": null,
   "metadata": {},
   "outputs": [],
   "source": [
    "# calculate the distances between all hotspots and existing shelters\n",
    "Distance=[]\n",
    "for i in range(H):\n",
    "    l=[]\n",
    "    hotspot_coord=[hotspot.loc[i,'Latitude'],hotspot.loc[i,'Longitude']]\n",
    "    for j in range(S):\n",
    "        shelter_coord=[shelter.loc[j,'Latitude'],shelter.loc[j,'Longitude']]\n",
    "        \n",
    "        dis=haversine_distance(hotspot_coord,shelter_coord)\n",
    "        l.append(dis)\n",
    "    Distance.append(l)"
   ]
  },
  {
   "cell_type": "code",
   "execution_count": null,
   "metadata": {},
   "outputs": [],
   "source": [
    "A = shelter[shelter['Code']==0].shape[0] # Number of shelters open to all\n",
    "F = shelter[shelter['Code']==1].shape[0] # Number of shelters open to only females\n",
    "M = shelter[shelter['Code']==2].shape[0] # Number of shelters open to only males"
   ]
  },
  {
   "cell_type": "markdown",
   "metadata": {},
   "source": [
    "#### Add Decision Variables and Set Objective Function"
   ]
  },
  {
   "cell_type": "code",
   "execution_count": null,
   "metadata": {},
   "outputs": [],
   "source": [
    "prob = gb.Model(\"Shelters\")\n",
    "\n",
    "X = prob.addVars(H, S, G, lb=0, vtype=GRB.INTEGER, name=['X_Hotspot_'+str(i)+'_toShelter_'+str(j)+'_'+k for i in range(1,H+1) for j in range(1,S+1) for k in Gender])\n",
    "\n",
    "prob.setObjective(gb.quicksum(X[i,j,k] for i in range(H) for j in range(S) for k in range(G)),GRB.MAXIMIZE)"
   ]
  },
  {
   "cell_type": "markdown",
   "metadata": {},
   "source": [
    "#### Implement Constraints"
   ]
  },
  {
   "cell_type": "code",
   "execution_count": null,
   "metadata": {},
   "outputs": [],
   "source": [
    "# Homeless People Constraints\n",
    "# Female shelters can only have Females\n",
    "for j in range(A,A+F):\n",
    "    prob.addConstr(sum(X[i,j,0] for i in range(H))<=Shelter[j])\n",
    "\n",
    "# Stop Males from going to Female Shelters\n",
    "for j in range(A,A+F):\n",
    "    prob.addConstr(sum(X[i,j,1] for i in range(H))==0)  \n",
    "\n",
    "# Male shelters can only have Males\n",
    "for j in range(A+F,A+F+M):\n",
    "    prob.addConstr(sum(X[i,j,1] for i in range(H))<=Shelter[j])\n",
    "\n",
    "# Stop Females from going to Male Shelters\n",
    "for j in range(A+F,A+F+M):\n",
    "    prob.addConstr(sum(X[i,j,0] for i in range(H))==0)\n",
    "\n",
    "# Males from hotspots less than Males in Hotspots\n",
    "for i in range(H):\n",
    "    prob.addConstr(sum(X[i,j,1] for j in range(S))<=Males[i])\n",
    "\n",
    "#Females from hotspots less than Females in Hotspots\n",
    "for i in range(H):\n",
    "    prob.addConstr(sum(X[i,j,0] for j in range(S))<=Females[i])\n",
    "\n",
    "# Total from hotspots less than total in Hotspots\n",
    "for j in range(0,A):\n",
    "    prob.addConstr(sum(X[i,j,k] for i in range(H) for k in range(G))<=Shelter[j])"
   ]
  },
  {
   "cell_type": "code",
   "execution_count": null,
   "metadata": {},
   "outputs": [],
   "source": [
    "# Distance constraints between hotspots and shelters set to maximum 4km\n",
    "for i in range(H):\n",
    "    for j in range(S):\n",
    "        for k in range(G):\n",
    "            prob.addConstr(X[i,j,k]*(4-Distance[i][j])>=0)"
   ]
  },
  {
   "cell_type": "code",
   "execution_count": null,
   "metadata": {},
   "outputs": [],
   "source": [
    "prob.optimize()"
   ]
  },
  {
   "cell_type": "code",
   "execution_count": null,
   "metadata": {},
   "outputs": [],
   "source": [
    "print(f'The total number of people in shelters : {prob.ObjVal}')\n",
    "print(f'The optimal allocation is ')\n",
    "for i in prob.getVars():\n",
    "        print(f\"{i.VarName}: {i.X}\")"
   ]
  },
  {
   "cell_type": "code",
   "execution_count": null,
   "metadata": {},
   "outputs": [],
   "source": [
    "# calculate the number remaining at each hotspot from model 1 as input to model 2\n",
    "rem_male=[]\n",
    "rem_female=[]\n",
    "for i in range(H):\n",
    "    f=0\n",
    "    m=0\n",
    "    for j in range(S):\n",
    "        f = f + X[i,j,0].x \n",
    "        m = m + X[i,j,1].x\n",
    "    rem_male.append(m)\n",
    "    rem_female.append(f)\n",
    "\n",
    "hotspot['Remaining']=hotspot['Homeless']-np.array(rem_male)-np.array(rem_female)\n",
    "hotspot['Female_Rem']=hotspot['Female']-np.array(rem_female)\n",
    "hotspot['Male_Rem']=hotspot['Male']-np.array(rem_male)"
   ]
  },
  {
   "cell_type": "code",
   "execution_count": null,
   "metadata": {},
   "outputs": [],
   "source": [
    "# calculate the number of beds unoccupied at each shelter\n",
    "unocc=[]\n",
    "for i in range(S):\n",
    "    s=0\n",
    "    for j in range(H):\n",
    "        s = s + X[j,i,0].x + X[j,i,1].x\n",
    "    unocc.append(s)\n",
    "\n",
    "shelter['Remaining']=shelter['Beds']-np.array(unocc)"
   ]
  },
  {
   "cell_type": "code",
   "execution_count": null,
   "metadata": {},
   "outputs": [],
   "source": [
    "shelter[shelter['Remaining']>0]"
   ]
  },
  {
   "cell_type": "markdown",
   "metadata": {},
   "source": [
    "### Model 2: New Shelter Allocation"
   ]
  },
  {
   "cell_type": "markdown",
   "metadata": {},
   "source": [
    "#### Data Prep"
   ]
  },
  {
   "cell_type": "code",
   "execution_count": null,
   "metadata": {},
   "outputs": [],
   "source": [
    "# use hotspot data from previous Model\n",
    "potential = dfn.copy().reset_index()\n",
    "shelter = dfc.copy().reset_index()\n",
    "shelter.sort_values(by='Code',inplace=True) # sort by Code to segment All, Female and Male shelters\n",
    "shelter.reset_index(inplace=True)\n",
    "shelter.drop(columns='index',inplace=True)"
   ]
  },
  {
   "cell_type": "code",
   "execution_count": null,
   "metadata": {},
   "outputs": [],
   "source": [
    "leftover=hotspot[hotspot['Remaining']>0].copy()\n",
    "leftover['Annual_Cost_Homeless']=25860\n",
    "leftover.drop(columns=['level_0','index'],inplace=True)\n",
    "leftover.reset_index(inplace=True)\n",
    "leftover.drop(columns='index',inplace=True)"
   ]
  },
  {
   "cell_type": "code",
   "execution_count": null,
   "metadata": {},
   "outputs": [],
   "source": [
    "P = len(potential) # Number of Potential Shelters\n",
    "S = len(shelter) # Number of Existing Shelters\n",
    "L = len(leftover) # Number of Hotspots with Unallocated Homeless People"
   ]
  },
  {
   "cell_type": "code",
   "execution_count": null,
   "metadata": {},
   "outputs": [],
   "source": [
    "# Calculate the fixed cost of new shelters by taking average cost of 3 closest shelters in original data set\n",
    "dummy=pd.DataFrame({'Location':[],'Shelter':[],'Distance':[],'Adjusted Cost':[]})\n",
    "\n",
    "# calculate the distance between all potential shelters and existing shelters\n",
    "for i in range(P):\n",
    "    potential_coord=[potential.loc[i,'Latitude'],potential.loc[i,'Longitude']]\n",
    "    for j in range(S):\n",
    "        shelter_coord=[shelter.loc[j,'Latitude'],shelter.loc[j,'Longitude']]\n",
    "        \n",
    "        dis=haversine_distance(potential_coord,shelter_coord)\n",
    "        dummy=pd.concat([dummy,pd.DataFrame({'Location':potential.loc[i,'Location'],'Shelter':shelter.loc[j,'Name'],\n",
    "                      'Distance':dis,'Adjusted Cost':shelter.loc[j,'Adjusted Costs']},index=[0])])\n",
    "\n",
    "dummy.reset_index(inplace=True)\n",
    "dummy.drop(columns='index',inplace=True)\n"
   ]
  },
  {
   "cell_type": "code",
   "execution_count": null,
   "metadata": {},
   "outputs": [],
   "source": [
    "# average the adjusted cost of the 3 closest shelters to get the potential shelter adjusted costs\n",
    "dummy['row_num']=dummy.groupby(by='Location')['Distance'].rank(method='first')\n",
    "dummy=dummy[dummy['row_num'].isin([1,2,3])]\n",
    "dum=pd.DataFrame(dummy.groupby(by='Location')['Adjusted Cost'].mean())\n",
    "potential=potential.join(dum,how='inner',on='Location')"
   ]
  },
  {
   "cell_type": "code",
   "execution_count": null,
   "metadata": {},
   "outputs": [],
   "source": [
    "# Calculate the distance between all potential shelters and hotspots with unallocated individuals\n",
    "Distance=[]\n",
    "for i in range(L):\n",
    "    l=[]\n",
    "    leftover_coord=[leftover.loc[i,'Latitude'],leftover.loc[i,'Longitude']]\n",
    "    for j in range(P):\n",
    "        potential_coord=[potential.loc[j,'Latitude'],potential.loc[j,'Longitude']]\n",
    "        \n",
    "        dis=haversine_distance(leftover_coord,potential_coord)\n",
    "        l.append(dis)\n",
    "    Distance.append(l)"
   ]
  },
  {
   "cell_type": "code",
   "execution_count": null,
   "metadata": {},
   "outputs": [],
   "source": [
    "Shelters = potential.loc[:,'Capacity'].tolist()\n",
    "Homeless = leftover.loc[:,'Remaining'].tolist()\n",
    "Fixed_Cost = potential.loc[:,'Adjusted Cost'].tolist()\n",
    "Cost_Per_Homeless = leftover.loc[:,'Annual_Cost_Homeless'].tolist()"
   ]
  },
  {
   "cell_type": "markdown",
   "metadata": {},
   "source": [
    "#### Create Decision Variables and Set Objective Function"
   ]
  },
  {
   "cell_type": "code",
   "execution_count": null,
   "metadata": {},
   "outputs": [],
   "source": [
    "prob1 = gb.Model(\"Shelter model 2\")\n",
    "\n",
    "X = prob1.addVars(L, P, lb=0, vtype=GRB.INTEGER, name=['X_LOC_'+str(i+1)+'_toShelter_'+str(j+1) for i in range(L) for j in range(P)])\n",
    "D = prob1.addVars(P, vtype=GRB.BINARY)\n",
    "\n",
    "prob1.setObjective(sum(Cost_Per_Homeless[i]*X[i,j] for i in range(L) for j in range(P))+sum(Fixed_Cost[i]*D[i] for i in range(P)),GRB.MINIMIZE)"
   ]
  },
  {
   "cell_type": "markdown",
   "metadata": {},
   "source": [
    "# Add Constraints to Model"
   ]
  },
  {
   "cell_type": "code",
   "execution_count": null,
   "metadata": {},
   "outputs": [],
   "source": [
    "prob1.addConstr(sum(D[i] for i in range(P))<=7)  #only one of the three locations will be picked\n",
    "\n",
    "for i in range(L):\n",
    "    for j in range(P):\n",
    "        prob1.addConstr(X[i,j]*(4-Distance[i][j])>=0) #distance constraint\n",
    "        \n",
    "#sum of homeless allocated has to be less than or equal to the capacity\n",
    "for j in range(P):\n",
    "    prob1.addConstr(sum(X[i,j] for i in range(L))<=Shelters[j])\n",
    "\n",
    "# sum of homeless allocated has to be less than or equal to the number of homeless remaining at hotspots\n",
    "for i in range(L):\n",
    "    prob1.addConstr(sum(X[i,j] for j in range(P))<=Homeless[i])\n",
    "    \n",
    "# all homeless have to be allocated to a shelter\n",
    "prob1.addConstr(sum(X[i,j] for i in range(L) for j in range(P))>= 0.90*sum(Homeless[i] for i in range(L)))\n",
    "\n",
    "# a shelter can only host homeless if it is chosen\n",
    "M=1000000\n",
    "for i in range(L):\n",
    "     for j in range(P):\n",
    "        prob1.addConstr(X[i,j]<=D[j]*M)\n",
    "\n",
    "prob1.optimize()"
   ]
  },
  {
   "cell_type": "code",
   "execution_count": null,
   "metadata": {},
   "outputs": [],
   "source": [
    "for v in prob1.getVars():\n",
    "    if v.x>0:\n",
    "        print(v.varName, \"=\", v.x)"
   ]
  },
  {
   "cell_type": "code",
   "execution_count": null,
   "metadata": {},
   "outputs": [],
   "source": [
    "t=[]\n",
    "\n",
    "for i in range(len(leftover)):\n",
    "    s=0\n",
    "    for j in range(len(potential)):\n",
    "        s=s+X[i,j].x\n",
    "    t.append(s)\n",
    "print(f'The total people newly assigned to shelters are {sum(t)}')"
   ]
  },
  {
   "cell_type": "code",
   "execution_count": null,
   "metadata": {},
   "outputs": [],
   "source": [
    "leftover['Remaining 1']=leftover['Remaining']-np.array(t)\n",
    "leftover[leftover['Remaining 1'] > 0]"
   ]
  },
  {
   "cell_type": "code",
   "execution_count": null,
   "metadata": {},
   "outputs": [],
   "source": [
    "print('The total people still unallocated : ',sum(leftover['Remaining 1']))"
   ]
  },
  {
   "cell_type": "code",
   "execution_count": null,
   "metadata": {},
   "outputs": [],
   "source": [
    "print('The total optimal cost : ',prob1.objVal)"
   ]
  },
  {
   "cell_type": "code",
   "execution_count": null,
   "metadata": {},
   "outputs": [],
   "source": []
  }
 ],
 "metadata": {
  "kernelspec": {
   "display_name": "Python 3 (ipykernel)",
   "language": "python",
   "name": "python3"
  },
  "language_info": {
   "codemirror_mode": {
    "name": "ipython",
    "version": 3
   },
   "file_extension": ".py",
   "mimetype": "text/x-python",
   "name": "python",
   "nbconvert_exporter": "python",
   "pygments_lexer": "ipython3",
   "version": "3.8.8"
  },
  "vscode": {
   "interpreter": {
    "hash": "2f2e9bad74088dc98384fdff86043daddb0fae08e1e175535f94dab35dd9d560"
   }
  }
 },
 "nbformat": 4,
 "nbformat_minor": 2
}
