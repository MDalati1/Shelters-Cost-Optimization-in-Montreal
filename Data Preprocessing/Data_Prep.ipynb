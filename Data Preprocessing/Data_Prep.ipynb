{
 "cells": [
  {
   "cell_type": "code",
   "execution_count": null,
   "metadata": {},
   "outputs": [],
   "source": [
    "import pandas as pd\n",
    "import numpy as np\n",
    "import os"
   ]
  },
  {
   "cell_type": "markdown",
   "metadata": {},
   "source": [
    "### Notes\n",
    "* Need to get location info for metro stations\n",
    "* Need way to distribute population appropriately at metro stations"
   ]
  },
  {
   "cell_type": "code",
   "execution_count": null,
   "metadata": {},
   "outputs": [],
   "source": [
    "total_homeless = 3573\n",
    "total_metro = total_homeless // 2\n",
    "total_camp = total_homeless - total_metro"
   ]
  },
  {
   "cell_type": "code",
   "execution_count": null,
   "metadata": {},
   "outputs": [],
   "source": [
    "dir = \"/Users/mohamaddalati/Desktop/Archive-Fall2022/MGSC-662/Project/MGSC 662 - Project/Data prep/Data_Prep.ipynb\"\n",
    "os.chdir(dir)\n",
    "dft = pd.read_excel(\"Model_Data.xlsx\", sheet_name=\"Transitional\")\n",
    "dfe = pd.read_excel(\"Model_Data.xlsx\", sheet_name=\"Emergency\")\n",
    "dfh = pd.read_excel(\"Model_Data.xlsx\", sheet_name=\"HotSpots\")\n",
    "dfn = pd.read_excel(\"Model_Data.xlsx\", sheet_name=\"NewLocations\")"
   ]
  },
  {
   "cell_type": "markdown",
   "metadata": {},
   "source": [
    "### Transitional"
   ]
  },
  {
   "cell_type": "code",
   "execution_count": null,
   "metadata": {},
   "outputs": [],
   "source": [
    "dft_piv = pd.pivot_table(dft, values=\"Beds\", index=\"Index\", aggfunc=np.sum)\n",
    "dft_piv.columns = [\"Total Beds\"]"
   ]
  },
  {
   "cell_type": "code",
   "execution_count": null,
   "metadata": {},
   "outputs": [],
   "source": [
    "dft = pd.merge(dft, dft_piv, how = \"left\", left_on=\"Index\", right_on=\"Index\")"
   ]
  },
  {
   "cell_type": "code",
   "execution_count": null,
   "metadata": {},
   "outputs": [],
   "source": [
    "# Should we remove rows with empty costs or replace with the median value?\n",
    "dft['Annual Cost'] = dft['Annual Cost'].replace({np.nan:dft['Annual Cost'].median()})"
   ]
  },
  {
   "cell_type": "code",
   "execution_count": null,
   "metadata": {},
   "outputs": [],
   "source": [
    "dft['Adjusted Costs'] = (dft['Beds'] / dft['Total Beds']) * dft['Annual Cost']"
   ]
  },
  {
   "cell_type": "code",
   "execution_count": null,
   "metadata": {},
   "outputs": [],
   "source": [
    "var_cost = 25860\n",
    "dft['Variable Cost'] = dft['Beds'] * var_cost"
   ]
  },
  {
   "cell_type": "code",
   "execution_count": null,
   "metadata": {},
   "outputs": [],
   "source": [
    "dft = dft.drop(columns=\"Index\")"
   ]
  },
  {
   "cell_type": "code",
   "execution_count": null,
   "metadata": {},
   "outputs": [],
   "source": [
    "dft.head()"
   ]
  },
  {
   "cell_type": "markdown",
   "metadata": {},
   "source": [
    "### Emergency"
   ]
  },
  {
   "cell_type": "code",
   "execution_count": null,
   "metadata": {},
   "outputs": [],
   "source": [
    "dfe_piv = pd.pivot_table(dfe, values=\"Beds\", index=\"Index\", aggfunc=np.sum)\n",
    "dfe_piv.columns = [\"Total Beds\"]"
   ]
  },
  {
   "cell_type": "code",
   "execution_count": null,
   "metadata": {},
   "outputs": [],
   "source": [
    "dfe = pd.merge(dfe, dfe_piv, how = \"left\", left_on=\"Index\", right_on=\"Index\")"
   ]
  },
  {
   "cell_type": "code",
   "execution_count": null,
   "metadata": {},
   "outputs": [],
   "source": [
    "# Should we remove rows with empty costs or replace with the median value?\n",
    "dfe['Annual Cost'] = dfe['Annual Cost'].replace({np.nan:dfe['Annual Cost'].median()})"
   ]
  },
  {
   "cell_type": "code",
   "execution_count": null,
   "metadata": {},
   "outputs": [],
   "source": [
    "dfe['Adjusted Costs'] = (dfe['Beds'] / dfe['Total Beds']) * dfe['Annual Cost']"
   ]
  },
  {
   "cell_type": "code",
   "execution_count": null,
   "metadata": {},
   "outputs": [],
   "source": [
    "var_cost = 25860\n",
    "dfe['Variable Cost'] = dfe['Beds'] * var_cost"
   ]
  },
  {
   "cell_type": "code",
   "execution_count": null,
   "metadata": {},
   "outputs": [],
   "source": [
    "dfe = dfe.drop(columns=\"Index\")"
   ]
  },
  {
   "cell_type": "code",
   "execution_count": null,
   "metadata": {},
   "outputs": [],
   "source": [
    "dfe.head()"
   ]
  },
  {
   "cell_type": "markdown",
   "metadata": {},
   "source": [
    "### Combine Transitional and Emergency"
   ]
  },
  {
   "cell_type": "code",
   "execution_count": null,
   "metadata": {},
   "outputs": [],
   "source": [
    "dfc = pd.concat([dft, dfe])\n",
    "dfc.head()"
   ]
  },
  {
   "cell_type": "markdown",
   "metadata": {},
   "source": [
    "### Hotspots"
   ]
  },
  {
   "cell_type": "markdown",
   "metadata": {},
   "source": [
    "Should we use the metro stations and scale or use the camps"
   ]
  },
  {
   "cell_type": "code",
   "execution_count": null,
   "metadata": {},
   "outputs": [],
   "source": [
    "dfh_camp = dfh[pd.isna(dfh['Density'])]\n",
    "dfh_camp = dfh_camp[['Station', 'Density', 'Latitude', 'Longitude']]\n",
    "dfh_metro = dfh[pd.notna(dfh['Density'])]\n",
    "dfh_metro = dfh_metro[['Station', 'Density', 'Latitude', 'Longitude']]"
   ]
  },
  {
   "cell_type": "code",
   "execution_count": null,
   "metadata": {},
   "outputs": [],
   "source": [
    "num_camps = dfh_camp.shape[0]\n",
    "dfh_camp['Homeless'] = total_camp // num_camps"
   ]
  },
  {
   "cell_type": "code",
   "execution_count": null,
   "metadata": {},
   "outputs": [],
   "source": [
    "# find the minimum density value\n",
    "# put density of metro station divided by minimum density\n",
    "low = dfh_metro['Density'].min()\n",
    "dfh_metro['Scale'] = dfh_metro['Density'] / low\n",
    "total = dfh_metro['Scale'].sum()\n",
    "dfh_metro['Homeless'] = dfh_metro['Scale'] / total * total_metro\n",
    "dfh_metro['Homeless'] = dfh_metro['Homeless'].round()"
   ]
  },
  {
   "cell_type": "code",
   "execution_count": null,
   "metadata": {},
   "outputs": [],
   "source": [
    "dfh_metro = dfh_metro.drop(columns=['Density', 'Scale'])"
   ]
  },
  {
   "cell_type": "code",
   "execution_count": null,
   "metadata": {},
   "outputs": [],
   "source": [
    "dfh_camp = dfh_camp.drop(columns=['Density'])"
   ]
  },
  {
   "cell_type": "code",
   "execution_count": null,
   "metadata": {},
   "outputs": [],
   "source": [
    "dfd = pd.concat([dfh_metro, dfh_camp])"
   ]
  },
  {
   "cell_type": "markdown",
   "metadata": {},
   "source": [
    "### Potential"
   ]
  },
  {
   "cell_type": "code",
   "execution_count": null,
   "metadata": {},
   "outputs": [],
   "source": [
    "dfn.head()"
   ]
  },
  {
   "cell_type": "markdown",
   "metadata": {},
   "source": [
    "### Export to Excel"
   ]
  },
  {
   "cell_type": "code",
   "execution_count": null,
   "metadata": {},
   "outputs": [],
   "source": [
    "with pd.ExcelWriter('Final_Model_Data.xlsx') as writer:\n",
    "    dft.to_excel(writer, sheet_name=\"Transitional\", index=False)\n",
    "    dfe.to_excel(writer, sheet_name=\"Emergency\", index=False)\n",
    "    dfc.to_excel(writer, sheet_name=\"CombinedHousing\", index=False)\n",
    "    dfh_camp.to_excel(writer, sheet_name=\"HotspotCamps\", index=False)\n",
    "    dfh_metro.to_excel(writer, sheet_name=\"HotspotsMetro\", index=False)\n",
    "    dfd.to_excel(writer, sheet_name=\"HotspotsAll\", index=False)\n",
    "    dfn.to_excel(writer, sheet_name=\"NewLocations\", index=False)"
   ]
  },
  {
   "cell_type": "code",
   "execution_count": null,
   "metadata": {},
   "outputs": [],
   "source": []
  }
 ],
 "metadata": {
  "kernelspec": {
   "display_name": "Python 3.8.8 ('base')",
   "language": "python",
   "name": "python3"
  },
  "language_info": {
   "codemirror_mode": {
    "name": "ipython",
    "version": 3
   },
   "file_extension": ".py",
   "mimetype": "text/x-python",
   "name": "python",
   "nbconvert_exporter": "python",
   "pygments_lexer": "ipython3",
   "version": "3.8.8"
  },
  "orig_nbformat": 4,
  "vscode": {
   "interpreter": {
    "hash": "2f2e9bad74088dc98384fdff86043daddb0fae08e1e175535f94dab35dd9d560"
   }
  }
 },
 "nbformat": 4,
 "nbformat_minor": 2
}
